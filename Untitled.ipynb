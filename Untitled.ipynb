{
 "cells": [
  {
   "cell_type": "code",
   "execution_count": 1,
   "metadata": {},
   "outputs": [],
   "source": [
    "import numpy as np"
   ]
  },
  {
   "cell_type": "code",
   "execution_count": 2,
   "metadata": {},
   "outputs": [
    {
     "name": "stderr",
     "output_type": "stream",
     "text": [
      "/media/riyan/DATA/AnacondaInstall/lib/python3.7/site-packages/matplotlib/font_manager.py:232: UserWarning: Matplotlib is building the font cache using fc-list. This may take a moment.\n",
      "  'Matplotlib is building the font cache using fc-list. '\n"
     ]
    }
   ],
   "source": [
    "import matplotlib.pylab as pl"
   ]
  },
  {
   "cell_type": "code",
   "execution_count": 3,
   "metadata": {},
   "outputs": [
    {
     "ename": "SyntaxError",
     "evalue": "invalid syntax (<ipython-input-3-42c369930c0c>, line 10)",
     "output_type": "error",
     "traceback": [
      "\u001b[0;36m  File \u001b[0;32m\"<ipython-input-3-42c369930c0c>\"\u001b[0;36m, line \u001b[0;32m10\u001b[0m\n\u001b[0;31m    >>> pl.plot(x,y) # menggunakan pylab untuk memplot x dan y\u001b[0m\n\u001b[0m     ^\u001b[0m\n\u001b[0;31mSyntaxError\u001b[0m\u001b[0;31m:\u001b[0m invalid syntax\n"
     ]
    }
   ],
   "source": [
    "import numpy\n",
    "import numpy as np\n",
    "import matplotlib.pylab as pl\n",
    "x = np.array([1,2,3,4,5], float)\n",
    "y = np.array([1,4,9,16,25], float)\n",
    "import numpy as np\n",
    "import matplotlib.pylab as pl\n",
    "x = np.array([1,2,3,4,5], float) # membuat nilai array sumbu x\n",
    "x = np.array([1,2,3,4,5], float) # membuat nilai array sumbu x\n",
    ">>> pl.plot(x,y) # menggunakan pylab untuk memplot x dan y\n",
    "pl. show() # menampilkan hasil plot pada layar\n",
    "\n",
    "\n",
    "\n"
   ]
  },
  {
   "cell_type": "markdown",
   "metadata": {},
   "source": [
    "import numpy\n",
    "import numpy as np\n",
    "import matplotlib.pylab as pl\n",
    "x = np.array([1,2,3,4,5], float)\n",
    "y = np.array([1,4,9,16,25], float)\n",
    "import numpy as np\n",
    "import matplotlib.pylab as pl\n",
    "x = np.array([1,2,3,4,5], float) # membuat nilai array sumbu x\n",
    "x = np.array([1,2,3,4,5], float) # membuat nilai array sumbu x\n",
    "pl.plot(x,y) # menggunakan pylab untuk memplot x dan y\n",
    "pl. show() # menampilkan hasil plot pada layar"
   ]
  },
  {
   "cell_type": "markdown",
   "metadata": {},
   "source": [
    "#hasil"
   ]
  },
  {
   "cell_type": "code",
   "execution_count": 1,
   "metadata": {},
   "outputs": [
    {
     "ename": "SyntaxError",
     "evalue": "invalid syntax (<ipython-input-1-5a4bcf024703>, line 1)",
     "output_type": "error",
     "traceback": [
      "\u001b[0;36m  File \u001b[0;32m\"<ipython-input-1-5a4bcf024703>\"\u001b[0;36m, line \u001b[0;32m1\u001b[0m\n\u001b[0;31m    <b>hasil</b>\u001b[0m\n\u001b[0m    ^\u001b[0m\n\u001b[0;31mSyntaxError\u001b[0m\u001b[0;31m:\u001b[0m invalid syntax\n"
     ]
    }
   ],
   "source": [
    "<b>hasil</b>"
   ]
  },
  {
   "cell_type": "code",
   "execution_count": 2,
   "metadata": {},
   "outputs": [],
   "source": [
    "#<b>hasil</b>"
   ]
  },
  {
   "cell_type": "markdown",
   "metadata": {},
   "source": [
    "<b>hasil</b>"
   ]
  },
  {
   "cell_type": "code",
   "execution_count": null,
   "metadata": {},
   "outputs": [],
   "source": []
  }
 ],
 "metadata": {
  "kernelspec": {
   "display_name": "Python 3",
   "language": "python",
   "name": "python3"
  },
  "language_info": {
   "codemirror_mode": {
    "name": "ipython",
    "version": 3
   },
   "file_extension": ".py",
   "mimetype": "text/x-python",
   "name": "python",
   "nbconvert_exporter": "python",
   "pygments_lexer": "ipython3",
   "version": "3.7.1"
  }
 },
 "nbformat": 4,
 "nbformat_minor": 2
}
