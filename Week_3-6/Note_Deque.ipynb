{
 "cells": [
  {
   "cell_type": "markdown",
   "metadata": {},
   "source": [
    "<h1><b>HomeWork Weekly (Deque) 3-6</b></h1>"
   ]
  },
  {
   "cell_type": "markdown",
   "metadata": {},
   "source": [
    "> Deque (Deantrian), dikenal juga sebagai antrian berujung dua (double-ended), adalah suatu\n",
    "koleksi item terurut serupa dengan queue. Perbedaannya? Sifat tidak terikat untuk\n",
    "penambahan dan penghapusan item-item dari antrian. Item baru dapat ditambahkan ke depan\n",
    "atau belakang. Karena itu, item yang ada dapat dihapuskan dari salah satu ujung. Struktur\n",
    "linier hibrida ini menyediakan semua kapabilutas stack dan antrian dalam satu struktur data."
   ]
  },
  {
   "cell_type": "markdown",
   "metadata": {},
   "source": [
    "<img src=\"img_deque.png\">\n",
    " <center>Contoh deque<center><p>"
   ]
  },
  {
   "cell_type": "markdown",
   "metadata": {},
   "source": [
    "<b>Berikut ini adalah beberapa operasi yang dapat diberlakukan terhadap deque: :</b>"
   ]
  },
  {
   "cell_type": "markdown",
   "metadata": {},
   "source": [
    "<ul><li>deque() : membuat suatu deque baru yang kosong. Tidak perlu parameter dan\n",
    "mengembalikan suatu deque kosong..</ul>\n",
    "<ul><li>addFront(item) : menambahkan suatu item baru ke depan dari deque. Perlu item dan\n",
    "tidak mengembalikan apapun.</ul>\n",
    "<ul><li>addRear(item) : menambahkan suatu item baru ke ekor dari deque. Perlu item dam\n",
    "tidak mengembalikan sesuatu.</ul>\n",
    "<ul><li>removeFront() menghapus item depan dari deque. Tidak perlu parameter dan\n",
    "mengembalikan item. Deque termodifikasi.</ul>\n",
    "<ul><li>removeRear() menghapus item ujung (ekor) dari deque. Tidak perlu parameter dan\n",
    "mengembalikan item. Deque berubah.</ul>\n",
    "<ul><li>isEmpty() menguji apakah deque dalam kondisi kosong. Tidak perlu parameter dan\n",
    "mengembalikan suatu nilai boolean.</ul>\n",
    "<ul><li>size() mengembalikan jumlah item dalam deque. Tidak perlu parameter dan\n",
    "mengembalikan suatu integer.</ul>"
   ]
  },
  {
   "cell_type": "markdown",
   "metadata": {},
   "source": [
    "<p><p><b>Berikut implementasi dalam syntax :</b><p><p>"
   ]
  },
  {
   "cell_type": "code",
   "execution_count": 2,
   "metadata": {},
   "outputs": [
    {
     "name": "stdout",
     "output_type": "stream",
     "text": [
      "True\n",
      "3\n",
      "False\n",
      "8.4\n",
      "['riyan', 'mouse', 'cat']\n"
     ]
    }
   ],
   "source": [
    "def createDeque():\n",
    "    d = []\n",
    "    return(d)\n",
    "def addFront(d, data):\n",
    "    d.insert(0, data)\n",
    "    return (d)\n",
    "def addRear(d, data):\n",
    "    d.append(data)\n",
    "    return(d)\n",
    "def removeRear(d):\n",
    "    data = d.pop()\n",
    "    return(data)\n",
    "def removeFront(d):\n",
    "    data = d.pop()\n",
    "    return (data)\n",
    "def isEmpty(d):\n",
    "    return (d==[])\n",
    "def size(d):\n",
    "    return(len(d))\n",
    "\n",
    "\n",
    "d = createDeque()\n",
    "print(isEmpty(d))\n",
    "addRear(d, \"cat\")\n",
    "addFront(d, \"mouse\")\n",
    "addFront(d, \"riyan\")\n",
    "print(size(d))\n",
    "print(isEmpty(d))\n",
    "addRear(d, 8.4)\n",
    "print(removeRear(d))\n",
    "print(d)"
   ]
  },
  {
   "cell_type": "markdown",
   "metadata": {},
   "source": [
    "Dalam removeFront digunakan metode pop untuk menghapus elemen terakhir dari list.\n",
    "Namun, dalam removeRear, metode pop(0) harus menghapus elemen pertama dari list.\n",
    "Metode insert digunakan dalam addRear karena metode append menganggap penambahan\n",
    "elemen baru ke ujung (akhir) list."
   ]
  },
  {
   "cell_type": "markdown",
   "metadata": {},
   "source": [
    "<p><p><b>Contoh Program Palindrome Checker menggunakan deque</b>"
   ]
  },
  {
   "cell_type": "code",
   "execution_count": 5,
   "metadata": {},
   "outputs": [
    {
     "name": "stdout",
     "output_type": "stream",
     "text": [
      "False\n",
      "False\n"
     ]
    }
   ],
   "source": [
    "def palchecker(aString):\n",
    "    chardeque = createDeque()\n",
    "\n",
    "    for ch in aString:\n",
    "        addRear(chardeque, ch)\n",
    "    stillEqual = True\n",
    "\n",
    "    while size(chardeque) > 1 and stillEqual:\n",
    "        first = removeFront(chardeque)\n",
    "        last = removeRear(chardeque)\n",
    "        if first != last:\n",
    "            stillEqual = False\n",
    "\n",
    "    return stillEqual\n",
    "\n",
    "print(palchecker(\"lsdkjfskf\"))\n",
    "print(palchecker(\"riyan\"))"
   ]
  },
  {
   "cell_type": "code",
   "execution_count": null,
   "metadata": {},
   "outputs": [],
   "source": []
  }
 ],
 "metadata": {
  "kernelspec": {
   "display_name": "Python 3",
   "language": "python",
   "name": "python3"
  },
  "language_info": {
   "codemirror_mode": {
    "name": "ipython",
    "version": 3
   },
   "file_extension": ".py",
   "mimetype": "text/x-python",
   "name": "python",
   "nbconvert_exporter": "python",
   "pygments_lexer": "ipython3",
   "version": "3.7.1"
  }
 },
 "nbformat": 4,
 "nbformat_minor": 2
}
