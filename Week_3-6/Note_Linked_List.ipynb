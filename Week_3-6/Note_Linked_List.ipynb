{
 "cells": [
  {
   "cell_type": "markdown",
   "metadata": {},
   "source": [
    "<h1><b>HomeWork Weekly (LINKED LIST) 3-6</b></h1>"
   ]
  },
  {
   "cell_type": "markdown",
   "metadata": {},
   "source": [
    "## Linked List"
   ]
  },
  {
   "cell_type": "markdown",
   "metadata": {},
   "source": [
    "   adalah suatu struktur data linier, berbeda dengan list yang juga merupakan struktur data linier dan tipe data komposit, linked list dibentuk secara dinamik. Pada saat awal program dijalankan elemen linked list sebelum data, Elemen linked list (disebut node) dibentuk sambil jalan sesuai instruksi. Apabila setiap elemen dapat diakses secara langsung dengan menggunakan indeks, sebuah node linked list diakses dengan menggunakan pointer yang mengacu (menunjuk) ke node tersebut<br><p>"
   ]
  },
  {
   "cell_type": "markdown",
   "metadata": {},
   "source": [
    "<img src=\"images.png\">\n",
    " <center>Contoh gambar Linked List<center><p>"
   ]
  },
  {
   "cell_type": "markdown",
   "metadata": {},
   "source": [
    "<b>Berikut implementasi dalam syntax :</b>"
   ]
  },
  {
   "cell_type": "code",
   "execution_count": 5,
   "metadata": {},
   "outputs": [],
   "source": [
    "class Node:\n",
    "    def __init__(self, init_data):\n",
    "        self.data = init_data\n",
    "        self.next = None\n",
    "\n",
    "    def getData(self):\n",
    "        return self.data\n",
    "\n",
    "    def getNext(self):\n",
    "        return self.next\n",
    "\n",
    "    def setData(self, newData):\n",
    "        self.data = newData\n",
    "\n",
    "    def setNext(self, newNext):\n",
    "        self.next = newNext"
   ]
  },
  {
   "cell_type": "markdown",
   "metadata": {},
   "source": [
    "<p><p><b>Beberapa operasi list tak-berurut (unordered) adalah : </b>"
   ]
  },
  {
   "cell_type": "markdown",
   "metadata": {},
   "source": [
    "<ul><li>List() membuat suatu list baru yang kosong. Tidak memerlukan parameter dan\n",
    "    mengembalikan suatu list kosong.</ul>\n",
    "<ul><li>add(item) menambahkan suatu item baru ke dalam list. Diperlukan item yang akan\n",
    "ditambahkan dan tidak mengembalikan apapun. Anggapan: item tersebut belum ada\n",
    "dalam list.</ul>\n",
    "<ul><li>remove(item) menghapus item dari dalam list. Diperlukan item dan akan mengubah\n",
    "list. Anggapan: item tersebut tersedia di dalam list.\n",
    "search(item) mencari item di dalam list. Perlu item dan mengembalikan suatu nilai\n",
    "boolean.</ul>\n",
    "<ul><li>isEmpty() menguji untuk melihat apakah list dalam keadaan kosong (empty). Tidak\n",
    "memerlukan parameter dan mengembalikan suatu nilai boolean.</ul>\n",
    "<ul><li>size() mengembalikan jumlah item di dalam list. Tidak memerlukan parametyer dan\n",
    "mengembalikan suatu integer.</ul>\n",
    "<ul><li>append(item) menambahkan item baru ke akhir (ujung) list dan menjadikannya\n",
    "sebagai item terakhir di dalam koleksi. Diperlukan item dan tidak mengembalikan\n",
    "apapun. Anggapan: item tersebut belum ada di dalam list.</ul>\n",
    "<ul><li>index(item) mengembalikan posisi dari item di dalam list. Diperlukan item dan\n",
    "mengembalikan index dari item tersebut. Anggapan: item terdapat di dalam list.\n",
    "insert(pos, item) menambahkan suatu item baru ke dalam list pada posisi pos.\n",
    "Diperlukan item dan tidak mengembalikan apapun. Anggapan: item belum terdapat di\n",
    "dalam list dan ada cukup item existing (telah ada di dalam list) sehingga dapat\n",
    "diketahui posisi pos.</ul>\n",
    "<ul><li>pop() menghapus dan mengembalikan item terakhir di dalam list. Tidak memerlukan\n",
    "parameter dan mengembalikan suatu item. Anggapan: list tidak kosong, setidaknya\n",
    "ada satu item.</ul>\n",
    "<ul><li>pop(pos) menghapus dan mengembalikan item pada posisi pos. Diperlukan posisi\n",
    "sebagai parameter dan mengembalikan suatu item. Anggapan: item ada dalam list.</ul><br>"
   ]
  },
  {
   "cell_type": "code",
   "execution_count": 10,
   "metadata": {},
   "outputs": [
    {
     "name": "stdout",
     "output_type": "stream",
     "text": [
      "___________\n",
      "Node Position :  3\n",
      "True\n",
      "___________\n",
      "3\n",
      "------\n",
      "93\n",
      "None\n",
      "23\n",
      "None\n"
     ]
    }
   ],
   "source": [
    "class LinkedList:\n",
    "    def __init__(self):\n",
    "        self.head = None\n",
    "    def isEmpty(self):\n",
    "        return self.head == None\n",
    "    def add(self, item):\n",
    "        temp = Node(item)\n",
    "        temp.setNext(self.head)\n",
    "        self.head = temp\n",
    "\n",
    "    def size(self):\n",
    "        current = self.head\n",
    "        count = 0\n",
    "        while current != None:\n",
    "            count +=1\n",
    "            current = current.getNext()\n",
    "        return count\n",
    "\n",
    "    def search(self, item):\n",
    "        current = self.head\n",
    "        found = False\n",
    "        hit = 0\n",
    "        while current != None and not found:\n",
    "            hit+=1\n",
    "            if current.getData() == item:\n",
    "                found = True\n",
    "                print (\"Node Position : \", hit)\n",
    "            else:\n",
    "                current = current.getNext()\n",
    "        \n",
    "        return found\n",
    "\n",
    "rlist= LinkedList()\n",
    "rlist.add(54)\n",
    "# print(rlist.head)\n",
    "rlist.add(34)\n",
    "rlist.add(70)\n",
    "print(\"___________\")\n",
    "print(rlist.search(54))\n",
    "print(\"___________\")\n",
    "# print(rlist.search(54))\n",
    "print(rlist.size())\n",
    "\n",
    "# print(rlist.head.da)\n",
    "\n",
    "\n",
    "print(\"------\")\n",
    "data = Node(93)\n",
    "data1 = Node(23)\n",
    "\n",
    "print(data.getData())\n",
    "print(data1.getNext())\n",
    "\n",
    "data.setNext(data1)\n",
    "print(data.getNext().getData())\n",
    "print(data.getNext().getNext())\n",
    "\n",
    "# print(data.getNext().getData())"
   ]
  },
  {
   "cell_type": "markdown",
   "metadata": {},
   "source": [
    "> Kelas Node dan UnorderedList (Linked List) yang mengimplementasikan suatu linked-list (list\n",
    "berkait atau bersambungan). Perlu ditentukan nilai data awal untuk node. Juga ada metode\n",
    "untuk mengakses dan mengubah datanya dan referensi berikutnya. Perhatikan konstruktor,\n",
    "metode add, search, remove dan bagaimana itu semua digunakan."
   ]
  },
  {
   "cell_type": "markdown",
   "metadata": {},
   "source": [
    "<p><p><b>Implementasi add(item)</b>"
   ]
  },
  {
   "cell_type": "code",
   "execution_count": 8,
   "metadata": {},
   "outputs": [],
   "source": [
    " def add(self, item):\n",
    "        temp = Node(item)\n",
    "        temp.setNext(self.head)\n",
    "        self.head = temp"
   ]
  },
  {
   "cell_type": "markdown",
   "metadata": {},
   "source": [
    "<p><p><center><img src=\"img_add.png\"></center>"
   ]
  },
  {
   "cell_type": "markdown",
   "metadata": {},
   "source": [
    "<p><p><b>Implementasi Search(item)</b>"
   ]
  },
  {
   "cell_type": "code",
   "execution_count": 1,
   "metadata": {},
   "outputs": [],
   "source": [
    "def search(self, item):\n",
    "    current = self.head\n",
    "    found = False\n",
    "    hit = 0\n",
    "    while current != None and not found:\n",
    "        hit+=1\n",
    "        if current.getData() == item:\n",
    "            found = True\n",
    "            print (\"Node Position : \", hit)\n",
    "        else:\n",
    "            current = current.getNext()\n",
    "\n",
    "    return found"
   ]
  },
  {
   "cell_type": "markdown",
   "metadata": {},
   "source": [
    "<p><p><center><img src=\"img_search.png\"></center><p>"
   ]
  },
  {
   "cell_type": "code",
   "execution_count": null,
   "metadata": {},
   "outputs": [],
   "source": []
  }
 ],
 "metadata": {
  "kernelspec": {
   "display_name": "Python 3",
   "language": "python",
   "name": "python3"
  },
  "language_info": {
   "codemirror_mode": {
    "name": "ipython",
    "version": 3
   },
   "file_extension": ".py",
   "mimetype": "text/x-python",
   "name": "python",
   "nbconvert_exporter": "python",
   "pygments_lexer": "ipython3",
   "version": "3.7.1"
  }
 },
 "nbformat": 4,
 "nbformat_minor": 2
}
