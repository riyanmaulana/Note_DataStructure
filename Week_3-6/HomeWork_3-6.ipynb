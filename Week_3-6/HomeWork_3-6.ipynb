{
 "cells": [
  {
   "cell_type": "markdown",
   "metadata": {},
   "source": [
    "<h1><b>HomeWork Weekly (OOP) 3-6</b></h1>"
   ]
  },
  {
   "cell_type": "markdown",
   "metadata": {},
   "source": [
    "<h1>Python</h1>"
   ]
  },
  {
   "cell_type": "markdown",
   "metadata": {},
   "source": [
    "> Python adalah bahasa pemrograman multi-paradigma. Artinya, mendukung pendekatan pemrograman yang berbeda.\n",
    " Salah satu pendekatan populer untuk memecahkan masalah pemrograman adalah dengan membuat objek. \n",
    " Ini dikenal sebagai Pemrograman Berorientasi Objek (OOP).\n",
    " Suatu objek memiliki dua karakteristik: atribut dan method\n",
    "\n"
   ]
  },
  {
   "cell_type": "markdown",
   "metadata": {},
   "source": [
    "## Class"
   ]
  },
  {
   "cell_type": "markdown",
   "metadata": {},
   "source": [
    "Kelas adalah cetak biru untuk objek.\n",
    "\n",
    "Kita dapat menganggap kelas sebagai sketsa suatu benda dengan label dan karakteristik suatu benda. Ini berisi semua detail tentang nama, warna, ukuran dll. Dalam kelas, Kita dapat membuat tipe data baru selain tipe data defaut seperti int, String, boolean, dll. Berdasarkan uraian ini, kita dapat mempelajari tentang burung beo. Di sini, burung beo adalah obyek.\n",
    "\n",
    "Contoh lain adalah bilangan kompleks, bilangan kompleks tidak cocok apabila memakai tipe data Integer maupun String. Oleh karena itu didalam class dapat membuat Tipe data baru, yaitu bilangan kompleks.\n",
    "\n",
    "Berikut implementasi dalam syntax :"
   ]
  },
  {
   "cell_type": "code",
   "execution_count": 8,
   "metadata": {},
   "outputs": [],
   "source": [
    "class Bilkom:\n",
    "    pass"
   ]
  },
  {
   "cell_type": "markdown",
   "metadata": {},
   "source": [
    "## Object"
   ]
  },
  {
   "cell_type": "markdown",
   "metadata": {},
   "source": [
    "   Adalah instance dari sebuah kelas. Ketika kelas didefinisikan, hanya deskripsi untuk objek yang ditentukan. Oleh karena itu, tidak ada memori atau penyimpanan yang dialokasikan.\n",
    "   Contoh untuk objek kelas Bilkom (bilangan komponen) :"
   ]
  },
  {
   "cell_type": "code",
   "execution_count": 9,
   "metadata": {},
   "outputs": [],
   "source": [
    "data1 = Bilkom()"
   ]
  },
  {
   "cell_type": "markdown",
   "metadata": {},
   "source": [
    "Disini data1 merupakan objek kelas Bilkom"
   ]
  },
  {
   "cell_type": "markdown",
   "metadata": {},
   "source": [
    "## Cara membangun class dan object dalam kelas Bilkom"
   ]
  },
  {
   "cell_type": "code",
   "execution_count": 16,
   "metadata": {},
   "outputs": [
    {
     "name": "stdout",
     "output_type": "stream",
     "text": [
      "4 + 6 i\n",
      "<class '__main__.Bilkom'>\n"
     ]
    }
   ],
   "source": [
    "class Bilkom:\n",
    "    def __init__(self, a, b):\n",
    "        self.real = a\n",
    "        self.im = b\n",
    "        # return data\n",
    "    \n",
    "    def display(self):\n",
    "        print(self.real, \"+\", self.im, \"i\")\n",
    "        # temp = str(self.real) + '+' +str(self.im) + \"i\"\n",
    "        # return temp\n",
    "data = Bilkom(4, 6)\n",
    "data.display()\n",
    "print(type(data))   #mengecek tipe data bilangan komponen"
   ]
  },
  {
   "cell_type": "markdown",
   "metadata": {},
   "source": [
    "## Method\n"
   ]
  },
  {
   "cell_type": "markdown",
   "metadata": {},
   "source": [
    "Metode adalah fungsi yang didefinisikan di dalam tubuh kelas. Mereka digunakan untuk mendefinisikan perilaku suatu objek."
   ]
  },
  {
   "cell_type": "markdown",
   "metadata": {},
   "source": [
    "<b>Implementasi Method dalam class Bilkom</b>"
   ]
  },
  {
   "cell_type": "code",
   "execution_count": 18,
   "metadata": {},
   "outputs": [
    {
     "name": "stdout",
     "output_type": "stream",
     "text": [
      "4 + 6 i\n"
     ]
    }
   ],
   "source": [
    "class Bilkom:\n",
    "    def __init__(self, a, b):\n",
    "        self.real = a\n",
    "        self.im = b\n",
    "        # return data\n",
    "    \n",
    "    def display(self):\n",
    "        print(self.real, \"+\", self.im, \"i\")\n",
    "        # temp = str(self.real) + '+' +str(self.im) + \"i\"\n",
    "        # return temp\n",
    "\n",
    "    def __str__(self):\n",
    "        return str(self.real) + \" + \" +str(self.im) + \" i \"\n",
    "data = Bilkom(4, 6)\n",
    "data.display()\n",
    "\n"
   ]
  },
  {
   "cell_type": "markdown",
   "metadata": {},
   "source": [
    "Di dalam syntax tersebut, function display dinamakan method apabila dalam OOP, object melakukan instance dan memanggil method display untuk menampilkan bilangan kompleks."
   ]
  },
  {
   "cell_type": "markdown",
   "metadata": {},
   "source": [
    "## CONSTRUCTOR"
   ]
  },
  {
   "cell_type": "markdown",
   "metadata": {},
   "source": [
    "Metode pertama __init __ () adalah metode khusus, yang disebut konstruktor kelas atau metode inisialisasi yang dipanggil Python ketika membuat instance baru dari kelas ini."
   ]
  },
  {
   "cell_type": "markdown",
   "metadata": {},
   "source": [
    "<b>Implementasi Syntax constructor dalam class Bilkom</b>"
   ]
  },
  {
   "cell_type": "code",
   "execution_count": 21,
   "metadata": {},
   "outputs": [],
   "source": [
    "def __init__(self, a, b):\n",
    "        self.real = a\n",
    "        self.im = b\n",
    "        # return data"
   ]
  },
  {
   "cell_type": "code",
   "execution_count": 23,
   "metadata": {},
   "outputs": [
    {
     "name": "stdout",
     "output_type": "stream",
     "text": [
      "5 + 3 i\n"
     ]
    }
   ],
   "source": [
    "class Bilkom:\n",
    "    def __init__(self, a, b):\n",
    "        self.real = a\n",
    "        self.im = b\n",
    "        # return data\n",
    "    \n",
    "    def display(self):\n",
    "        print(self.real, \"+\", self.im, \"i\")\n",
    "        # temp = str(self.real) + '+' +str(self.im) + \"i\"\n",
    "        # return temp\n",
    "\n",
    "    def __str__(self):\n",
    "        return str(self.real) + \" + \" +str(self.im) + \" i \"\n",
    "data = Bilkom(5, 3)\n",
    "data.display()"
   ]
  },
  {
   "cell_type": "markdown",
   "metadata": {},
   "source": [
    "## Overriding Methods"
   ]
  },
  {
   "cell_type": "markdown",
   "metadata": {},
   "source": [
    "Adalah ketika suatu class child yang turunan dari class parent. mempunyai beberapa method dengan nama yang sama dengan yang dipunya si parent, tetapi dengan implementasi yang berbeda."
   ]
  },
  {
   "cell_type": "code",
   "execution_count": 42,
   "metadata": {},
   "outputs": [
    {
     "name": "stdout",
     "output_type": "stream",
     "text": [
      "6+11i\n",
      "_______\n",
      "7+8i\n"
     ]
    }
   ],
   "source": [
    "class Bilkom:\n",
    "    def __init__(self, a, b):\n",
    "        self.real = a\n",
    "        self.im = b\n",
    "        # return data\n",
    "    \n",
    "    def display(self):\n",
    "        print(self.real, \"+\", self.im, \"i\")\n",
    "\n",
    "    def __str__(self):\n",
    "        temp = str(self.real) + '+' +str(self.im) + \"i\"\n",
    "        return temp\n",
    "\n",
    "    # Step 1\n",
    "    def pertambahan(self, obj1, obj2):\n",
    "        self.real =obj1.real + obj2.real\n",
    "        self.im = obj1.im + obj2.im\n",
    "\n",
    "    # Step 2\n",
    "    def addKompleks(self, obj):\n",
    "        a = self.real + obj.real\n",
    "        b = self.im + obj.im\n",
    "        return Bilkom(a, b)\n",
    "\n",
    "# # Dengan sekali pemanggilan dengan menggunakan method addKompleks()\n",
    "data1 = Bilkom(4,6)\n",
    "data2 = Bilkom(2,5)\n",
    "jumlah = data1.addKompleks(data2)\n",
    "print(jumlah)\n",
    "# data1.display()\n",
    "# data2.display()\n",
    "\n",
    "print(\"_______\")\n",
    "\n",
    "# mengoperasikan bilangan komponen dengan override \n",
    "data = Bilkom(4,6)\n",
    "data1 = Bilkom(3,2)\n",
    "data1.pertambahan(data, data1)\n",
    "print(data1)\n"
   ]
  },
  {
   "cell_type": "markdown",
   "metadata": {},
   "source": [
    "<b>Implementasi Override dalam class Bilkom</b>"
   ]
  },
  {
   "cell_type": "code",
   "execution_count": 46,
   "metadata": {},
   "outputs": [],
   "source": [
    "def __str__(self):\n",
    "        temp = str(self.real) + '+' +str(self.im) + \"i\"\n",
    "        return temp"
   ]
  },
  {
   "cell_type": "code",
   "execution_count": null,
   "metadata": {},
   "outputs": [],
   "source": []
  }
 ],
 "metadata": {
  "kernelspec": {
   "display_name": "Python 3",
   "language": "python",
   "name": "python3"
  },
  "language_info": {
   "codemirror_mode": {
    "name": "ipython",
    "version": 3
   },
   "file_extension": ".py",
   "mimetype": "text/x-python",
   "name": "python",
   "nbconvert_exporter": "python",
   "pygments_lexer": "ipython3",
   "version": "3.7.1"
  }
 },
 "nbformat": 4,
 "nbformat_minor": 2
}
